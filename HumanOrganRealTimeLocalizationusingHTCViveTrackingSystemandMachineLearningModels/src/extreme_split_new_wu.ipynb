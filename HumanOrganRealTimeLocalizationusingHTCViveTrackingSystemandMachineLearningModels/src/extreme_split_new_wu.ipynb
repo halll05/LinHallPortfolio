{
 "cells": [
  {
   "cell_type": "code",
   "execution_count": 2,
   "metadata": {},
   "outputs": [],
   "source": [
    "import pandas as pd\n",
    "import numpy as np\n",
    "import matplotlib\n",
    "import matplotlib.pyplot as plt\n",
    "from random import randint\n",
    "from sklearn.metrics import r2_score\n",
    "import random\n",
    "\n",
    "from sklearn.impute import SimpleImputer\n",
    "from sklearn.experimental import enable_iterative_imputer\n",
    "from sklearn.impute import IterativeImputer\n",
    "\n",
    "from sklearn.linear_model import Ridge\n",
    "from sklearn.linear_model import BayesianRidge\n",
    "from sklearn.tree import DecisionTreeRegressor\n",
    "from sklearn.ensemble import ExtraTreesRegressor\n",
    "from sklearn.neighbors import KNeighborsRegressor\n",
    "from sklearn.neural_network import MLPRegressor\n",
    "from sklearn.ensemble import GradientBoostingRegressor\n",
    "from sklearn.pipeline import make_pipeline"
   ]
  },
  {
   "cell_type": "code",
   "execution_count": 3,
   "metadata": {},
   "outputs": [],
   "source": [
    "from spot import bidSPOT,dSPOT,SPOT"
   ]
  },
  {
   "cell_type": "code",
   "execution_count": 4,
   "metadata": {},
   "outputs": [],
   "source": [
    "CV = 5"
   ]
  },
  {
   "cell_type": "code",
   "execution_count": 7,
   "metadata": {},
   "outputs": [
    {
     "name": "stderr",
     "output_type": "stream",
     "text": [
      "100%|██████████████████████████████████████████████████████████████████████████████| 201/201 [00:00<00:00, 3054.13it/s]"
     ]
    },
    {
     "name": "stdout",
     "output_type": "stream",
     "text": [
      "3507\n",
      "Initial threshold : {'up': 0.02214744435000001, 'down': -0.02149985523000001}\n",
      "Number of peaks : {'up': 3, 'down': 4}\n",
      "Grimshaw maximum log-likelihood estimation ... [done]\n",
      "\t          Parameters               Upper               Lower\n",
      "\t------------------------------------------------------------\n",
      "\t                   γ               -0.25               -0.08\n",
      "\t                   σ                0.00                0.01\n",
      "\t          likelihood               18.09               13.71\n",
      "\t    Extreme quantile                0.02               -0.03\n",
      "\t------------------------------------------------------------\n"
     ]
    },
    {
     "name": "stderr",
     "output_type": "stream",
     "text": [
      "\n"
     ]
    },
    {
     "data": {
      "image/png": "[encoded data removed]",
      "text/plain": [
       "<Figure size 432x288 with 1 Axes>"
      ]
     },
     "metadata": {
      "needs_background": "light"
     },
     "output_type": "display_data"
    }
   ],
   "source": [
    "########### Rotational X\n",
    "\n",
    "\n",
    "########detect extreme values with bidSPOT\n",
    "\n",
    "\n",
    "df = pd.read_csv('data_triangleconfig/pitch7_triangle_processed.csv',sep=',')\n",
    "\n",
    "\n",
    "# df = pd.read_csv(filename, sep=',')\n",
    "print(df.size)\n",
    "# df = pd.read_csv('data/nonrigid_rollall_processed.csv', sep=',')\n",
    "df = df.dropna()\n",
    "# print(df)\n",
    "\n",
    "X = df.iloc[:, 0]\n",
    "# X = df.dropna()\n",
    "X = pd.to_numeric(X, errors='coerce')\n",
    "X = X.values\n",
    "\n",
    "\n",
    "\n",
    "\n",
    "n_init = 300\n",
    "\n",
    "\n",
    "init_datax = X[:n_init] \t# initial batch\n",
    "datax = X[n_init:]  \t\t# stream\n",
    "\n",
    "q = 1e-2 \t\t\t\t# risk parameter\n",
    "d = 100  # depth parameter\n",
    "s = bidSPOT(q,d)     \t# biDSPOT object\n",
    "s.fit(init_datax,datax) \t# data import\n",
    "s.initialize() \t  \t\t# initialization step\n",
    "xresults = s.run()    \t# run\n",
    "s.plot(xresults) \t \t# plot\n",
    "plt.show()\n"
   ]
  },
  {
   "cell_type": "code",
   "execution_count": 5,
   "metadata": {},
   "outputs": [
    {
     "data": {
      "text/plain": [
       "1028"
      ]
     },
     "execution_count": 5,
     "metadata": {},
     "output_type": "execute_result"
    }
   ],
   "source": [
    "# get total length of original  data\n",
    "\n",
    "originalx = dfx.iloc[n_init:,:].copy()\n",
    "# restart index\n",
    "originalx = originalx.reset_index(drop='True')\n",
    "total_lenx = originalx.shape[0]\n",
    "\n",
    "####set data length training set 80% and testing 20%\n",
    "testing_percentage=1/float(CV)\n",
    "test_data_lenx = int(total_lenx*testing_percentage)\n",
    "train_data_lenx = total_lenx - test_data_lenx\n",
    "total_lenx\n",
    "test_data_lenx"
   ]
  },
  {
   "cell_type": "code",
   "execution_count": null,
   "metadata": {},
   "outputs": [],
   "source": []
  },
  {
   "cell_type": "code",
   "execution_count": 6,
   "metadata": {},
   "outputs": [],
   "source": [
    "r_2_list = []\n",
    "vis_prediction = []\n",
    "vis_gap = []\n",
    "normal_event_idx = np.setdiff1d(range(total_lenx),xresults['alarms'])"
   ]
  },
  {
   "cell_type": "code",
   "execution_count": null,
   "metadata": {},
   "outputs": [],
   "source": []
  },
  {
   "cell_type": "code",
   "execution_count": 7,
   "metadata": {
    "scrolled": true
   },
   "outputs": [
    {
     "name": "stdout",
     "output_type": "stream",
     "text": [
      "currently dealing with loop: 0\n",
      "currently dealing with loop: 1\n",
      "currently dealing with loop: 2\n",
      "currently dealing with loop: 3\n",
      "currently dealing with loop: 4\n"
     ]
    }
   ],
   "source": [
    "#split dataset into training and testing datasets\n",
    "\n",
    "list_training=[]\n",
    "list_testing=[]\n",
    "for i in range(CV):\n",
    "    dfx_backup = dfx.iloc[n_init:,:].copy()\n",
    "    dfx_backup =dfx_backup.reset_index(drop='True')\n",
    "    # decide where to make holes\n",
    "    count = 0\n",
    "    print(\"currently dealing with loop:\", i)\n",
    "    \n",
    "    testing_startx = test_data_lenx * i\n",
    "    testing_endx = testing_startx + test_data_lenx\n",
    "    testing_datax = dfx_backup.iloc[testing_startx:testing_endx]\n",
    "    \n",
    "\n",
    "    \n",
    "    if i == 0:\n",
    "        training_datax = dfx_backup.iloc[testing_endx:]\n",
    "    elif i<4:\n",
    "        training_data_firstx = dfx_backup.iloc[:testing_startx]\n",
    "        training_data_secondx = dfx_backup.iloc[testing_endx:]\n",
    "        training_datax = pd.concat([training_data_firstx,training_data_secondx])\n",
    "    else:\n",
    "        training_datax = dfx_backup.iloc[:testing_startx]\n",
    "\n",
    "    #list_training.append(training_datax)\n",
    "    #list_testing.append(testing_datax)\n",
    "\n",
    "#list_training\n",
    "#list_testing"
   ]
  },
  {
   "cell_type": "code",
   "execution_count": 8,
   "metadata": {},
   "outputs": [],
   "source": [
    "##training_datax1=list_training[0]\n",
    "#training_datax1\n",
    "\n",
    "#testing_datax1=list_testing[0]\n",
    "# testing_datax1"
   ]
  },
  {
   "cell_type": "code",
   "execution_count": 9,
   "metadata": {},
   "outputs": [],
   "source": [
    "# split the training data into normal and extreme sets\n",
    "flag_array_extremex = np.array([m for m in xresults['alarms'] if m<testing_startx or m>testing_endx])  \n",
    "extreme_trainingx = training_datax.loc[flag_array_extremex]\n",
    "flag_array_normalx = np.array([m for m in normal_event_idx if m<testing_startx or m>testing_endx])  \n",
    "normal_trainingx = training_datax.loc[flag_array_normalx]"
   ]
  },
  {
   "cell_type": "code",
   "execution_count": 16,
   "metadata": {},
   "outputs": [],
   "source": [
    "# set kernels\n",
    "decisiontree_extreme = DecisionTreeRegressor(max_features='sqrt')\n",
    "decisiontree_normal = DecisionTreeRegressor(max_features='sqrt')\n",
    "\n",
    "knn_extreme= KNeighborsRegressor(n_neighbors=3)\n",
    "knn_normal= KNeighborsRegressor(n_neighbors=3)\n",
    "\n",
    "mlp_extreme = MLPRegressor(learning_rate='adaptive', max_iter=500)\n",
    "mlp_normal = MLPRegressor(learning_rate='adaptive', max_iter=500)\n",
    "\n",
    "gbr_extreme= GradientBoostingRegressor(loss='ls', learning_rate=0.1, n_estimators=100,\n",
    "       subsample=1.0, criterion='friedman_mse', min_samples_split=2, min_samples_leaf=1,\n",
    "       min_weight_fraction_leaf=0.0, max_depth=3, min_impurity_decrease=0.0, min_impurity_split=None,\n",
    "       init=None, random_state=None, max_features=None, alpha=0.9, verbose=0, max_leaf_nodes=None, \n",
    "       warm_start=False, validation_fraction=0.1, tol=0.0001)\n",
    "\n",
    "gbr_normal = GradientBoostingRegressor(loss='ls', learning_rate=0.1, n_estimators=100,\n",
    "       subsample=1.0, criterion='friedman_mse', min_samples_split=2, min_samples_leaf=1,\n",
    "       min_weight_fraction_leaf=0.0, max_depth=3, min_impurity_decrease=0.0, min_impurity_split=None,\n",
    "       init=None, random_state=None, max_features=None, alpha=0.9, verbose=0, max_leaf_nodes=None, \n",
    "       warm_start=False, validation_fraction=0.1, tol=0.0001)\n",
    "\n",
    "\n",
    "\n"
   ]
  },
  {
   "cell_type": "code",
   "execution_count": 17,
   "metadata": {},
   "outputs": [
    {
     "name": "stdout",
     "output_type": "stream",
     "text": [
      "current is cv fold 4 r^2 value is 0.989758150405772\n",
      "avg_r2 is: 0.99023802340611\n"
     ]
    }
   ],
   "source": [
    "# train the model with kernal gbr\n",
    "\n",
    "gbr_extreme.fit(extreme_trainingx.iloc[:,1:6].values,extreme_trainingx.iloc[:,0].values) \n",
    "gbr_normal.fit(normal_trainingx.iloc[:,1:6].values,normal_trainingx.iloc[:,0].values)\n",
    "\n",
    "\n",
    "# testing\n",
    "testing_datax_f = testing_datax.iloc[:,1:6].values\n",
    "testing_datax_x = testing_datax.iloc[:,0].values\n",
    "\n",
    "\n",
    "xpredictions = []\n",
    "for count in range(len(testing_datax_x)):\n",
    "\trecord_index = testing_startx+count\n",
    "\tif record_index in xresults['alarms']:\n",
    "\t\t# extreme event\n",
    "\t\ttmp_pred = gbr_extreme.predict([testing_datax_f[count]])\n",
    "\telse:\n",
    "\t# normal event\n",
    "\t    tmp_pred = gbr_normal.predict([testing_datax_f[count]])\n",
    "\txpredictions.append(tmp_pred)\n",
    "\n",
    "tmp_r_2 = r2_score(testing_datax_x, xpredictions)\n",
    "r_2_list.append(tmp_r_2)\n",
    "print(\"current is cv fold\", i, \"r^2 value is\", tmp_r_2)\n",
    "\n",
    "print(\"avg_r2 is:\", sum(r_2_list) / len(r_2_list))"
   ]
  },
  {
   "cell_type": "code",
   "execution_count": 18,
   "metadata": {},
   "outputs": [
    {
     "name": "stdout",
     "output_type": "stream",
     "text": [
      "current is cv fold 4 r^2 value is 0.9846199519334689\n",
      "avg_r2 is: 0.9891144091115818\n"
     ]
    }
   ],
   "source": [
    " \n",
    "# train the model with kernal  knn\n",
    "\n",
    "knn_extreme.fit(extreme_trainingx.iloc[:,1:6].values,extreme_trainingx.iloc[:,0].values) \n",
    "knn_normal.fit(normal_trainingx.iloc[:,1:6].values,normal_trainingx.iloc[:,0].values)\n",
    "\n",
    "\n",
    "# testing\n",
    "testing_datax_f = testing_datax.iloc[:,1:6].values\n",
    "testing_datax_x = testing_datax.iloc[:,0].values\n",
    "\n",
    "\n",
    "xpredictions = []\n",
    "for count in range(len(testing_datax_x)):\n",
    "\trecord_index = testing_startx+count\n",
    "\tif record_index in xresults['alarms']:\n",
    "\t\t# extreme event\n",
    "\t\ttmp_pred = knn_extreme.predict([testing_datax_f[count]])\n",
    "\telse:\n",
    "\t# normal event\n",
    "\t    tmp_pred = knn_normal.predict([testing_datax_f[count]])\n",
    "\txpredictions.append(tmp_pred)\n",
    "\n",
    "tmp_r_2 = r2_score(testing_datax_x, xpredictions)\n",
    "r_2_list.append(tmp_r_2)\n",
    "print(\"current is cv fold\", i, \"r^2 value is\", tmp_r_2)\n",
    "\n",
    "print(\"avg_r2 is:\", sum(r_2_list) / len(r_2_list))"
   ]
  },
  {
   "cell_type": "code",
   "execution_count": 19,
   "metadata": {},
   "outputs": [
    {
     "name": "stdout",
     "output_type": "stream",
     "text": [
      "current is cv fold 4 r^2 value is 0.9982667240909378\n",
      "avg_r2 is: 0.9906397949414744\n"
     ]
    }
   ],
   "source": [
    " \n",
    "# train the model with kernal  mlp\n",
    "\n",
    "mlp_extreme.fit(extreme_trainingx.iloc[:,1:6].values,extreme_trainingx.iloc[:,0].values) \n",
    "mlp_normal.fit(normal_trainingx.iloc[:,1:6].values,normal_trainingx.iloc[:,0].values)\n",
    "\n",
    "\n",
    "# testing\n",
    "testing_datax_f = testing_datax.iloc[:,1:6].values\n",
    "testing_datax_x = testing_datax.iloc[:,0].values\n",
    "\n",
    "\n",
    "xpredictions = []\n",
    "for count in range(len(testing_datax_x)):\n",
    "\trecord_index = testing_startx+count\n",
    "\tif record_index in xresults['alarms']:\n",
    "\t\t# extreme event\n",
    "\t\ttmp_pred = mlp_extreme.predict([testing_datax_f[count]])\n",
    "\telse:\n",
    "\t# normal event\n",
    "\t    tmp_pred = mlp_normal.predict([testing_datax_f[count]])\n",
    "\txpredictions.append(tmp_pred)\n",
    "\n",
    "tmp_r_2 = r2_score(testing_datax_x, xpredictions)\n",
    "r_2_list.append(tmp_r_2)\n",
    "print(\"current is cv fold\", i, \"r^2 value is\", tmp_r_2)\n",
    "\n",
    "print(\"avg_r2 is:\", sum(r_2_list) / len(r_2_list))\n",
    "\n"
   ]
  },
  {
   "cell_type": "code",
   "execution_count": 20,
   "metadata": {},
   "outputs": [
    {
     "name": "stdout",
     "output_type": "stream",
     "text": [
      "current is cv fold 4 r^2 value is 0.9867476698058418\n",
      "avg_r2 is: 0.9900837770649555\n"
     ]
    }
   ],
   "source": [
    " \n",
    "# train the model with kernal  decision tree\n",
    "\n",
    "decisiontree_extreme.fit(extreme_trainingx.iloc[:,1:6].values,extreme_trainingx.iloc[:,0].values) \n",
    "decisiontree_normal.fit(normal_trainingx.iloc[:,1:6].values,normal_trainingx.iloc[:,0].values)\n",
    "\n",
    "\n",
    "# testing\n",
    "testing_datax_f = testing_datax.iloc[:,1:6].values\n",
    "testing_datax_x = testing_datax.iloc[:,0].values\n",
    "\n",
    "\n",
    "xpredictions = []\n",
    "for count in range(len(testing_datax_x)):\n",
    "\trecord_index = testing_startx+count\n",
    "\tif record_index in xresults['alarms']:\n",
    "\t\t# extreme event\n",
    "\t\ttmp_pred = decisiontree_extreme.predict([testing_datax_f[count]])\n",
    "\telse:\n",
    "\t# normal event\n",
    "\t    tmp_pred = decisiontree_normal.predict([testing_datax_f[count]])\n",
    "\txpredictions.append(tmp_pred)\n",
    "\n",
    "tmp_r_2 = r2_score(testing_datax_x, xpredictions)\n",
    "r_2_list.append(tmp_r_2)\n",
    "print(\"current is cv fold\", i, \"r^2 value is\", tmp_r_2)\n",
    "\n",
    "print(\"avg_r2 is:\", sum(r_2_list) / len(r_2_list))"
   ]
  },
  {
   "cell_type": "code",
   "execution_count": null,
   "metadata": {},
   "outputs": [],
   "source": []
  },
  {
   "cell_type": "code",
   "execution_count": 21,
   "metadata": {},
   "outputs": [
    {
     "name": "stderr",
     "output_type": "stream",
     "text": [
      "  1%|█                                                                              | 70/5140 [00:00<00:16, 314.08it/s]"
     ]
    },
    {
     "name": "stdout",
     "output_type": "stream",
     "text": [
      "Initial threshold : {'up': 22.27960518019251, 'down': -22.357220444149988}\n",
      "Number of peaks : {'up': 11, 'down': 12}\n",
      "Grimshaw maximum log-likelihood estimation ... [done]\n",
      "\t          Parameters               Upper               Lower\n",
      "\t------------------------------------------------------------\n",
      "\t                   γ               -0.05               -0.07\n",
      "\t                   σ                0.31                0.27\n",
      "\t          likelihood                2.33                4.36\n",
      "\t    Extreme quantile               23.13              -23.10\n",
      "\t------------------------------------------------------------\n"
     ]
    },
    {
     "name": "stderr",
     "output_type": "stream",
     "text": [
      "100%|████████████████████████████████████████████████████████████████████████████| 5140/5140 [00:01<00:00, 5101.18it/s]\n"
     ]
    },
    {
     "data": {
      "image/png": "[encoded data removed]",
      "text/plain": [
       "<Figure size 432x288 with 1 Axes>"
      ]
     },
     "metadata": {
      "needs_background": "light"
     },
     "output_type": "display_data"
    }
   ],
   "source": [
    "########### Rotational Y\n",
    "\n",
    "\n",
    "########detect extreme values with bidSPOT\n",
    "\n",
    "\n",
    "dfy = pd.read_csv('data/RotationalY_flag.csv',sep=',')\n",
    "\n",
    "\n",
    "Xy = dfy['y'].to_numpy(dtype='float')\n",
    "Xy_backup = Xy.copy()\n",
    "\n",
    "\n",
    "\n",
    "\n",
    "n_init = 1000\n",
    "\n",
    "\n",
    "init_datay = Xy[:n_init] \t# initial batch\n",
    "datay = Xy[n_init:]  \t\t# stream\n",
    "\n",
    "q = 1e-3 \t\t\t\t# risk parameter\n",
    "d = 400  # depth parameter\n",
    "s = bidSPOT(q,d)     \t# biDSPOT object\n",
    "s.fit(init_datay,datay) \t# data import\n",
    "s.initialize() \t  \t\t# initialization step\n",
    "yresults = s.run()    \t# run\n",
    "s.plot(yresults) \t \t# plot\n",
    "plt.show()\n"
   ]
  },
  {
   "cell_type": "code",
   "execution_count": 22,
   "metadata": {
    "scrolled": true
   },
   "outputs": [
    {
     "data": {
      "text/plain": [
       "1028"
      ]
     },
     "execution_count": 22,
     "metadata": {},
     "output_type": "execute_result"
    }
   ],
   "source": [
    "# get total length of original  data\n",
    "\n",
    "originaly= dfy.iloc[n_init:,:].copy()\n",
    "# restart index\n",
    "originaly = originaly.reset_index(drop='True')\n",
    "total_leny = originaly.shape[0]\n",
    "\n",
    "####set data length training set 80% and testing 20%\n",
    "testing_percentage=1/float(CV)\n",
    "test_data_leny = int(total_leny*testing_percentage)\n",
    "train_data_leny = total_leny - test_data_leny\n",
    "total_leny\n",
    "test_data_leny"
   ]
  },
  {
   "cell_type": "code",
   "execution_count": 23,
   "metadata": {},
   "outputs": [],
   "source": [
    "r_2_listy = []\n",
    "vis_prediction = []\n",
    "vis_gap = []\n",
    "normal_event_idy = np.setdiff1d(range(total_leny),yresults['alarms'])"
   ]
  },
  {
   "cell_type": "code",
   "execution_count": 24,
   "metadata": {},
   "outputs": [
    {
     "name": "stdout",
     "output_type": "stream",
     "text": [
      "currently dealing with loop: 0\n",
      "currently dealing with loop: 1\n",
      "currently dealing with loop: 2\n",
      "currently dealing with loop: 3\n",
      "currently dealing with loop: 4\n"
     ]
    }
   ],
   "source": [
    "#split dataset into training and testing datasets\n",
    "\n",
    "\n",
    "\n",
    "for i in range(CV):\n",
    "\tdfy_backup = dfy.iloc[n_init:,:].copy()\n",
    "\tdfy_backup =dfy_backup.reset_index(drop='True')\n",
    "\t# decide where to make holes\n",
    "\tcount = 0\n",
    "\tprint(\"currently dealing with loop:\", i)\n",
    "\n",
    "\ttesting_starty = test_data_leny * i\n",
    "\ttesting_endy = testing_starty + test_data_leny\n",
    "\ttesting_datay = dfy_backup.iloc[testing_starty:testing_endy]\n",
    "\n",
    "\tif i == 0:\n",
    "\t\ttraining_datay = dfy_backup.iloc[testing_endy:]\n",
    "\telif i<4:\n",
    "\t\ttraining_data_firsty = dfy_backup.iloc[:testing_starty]\n",
    "\t\ttraining_data_secondy = dfy_backup.iloc[testing_endy:]\n",
    "\t\ttraining_datay = pd.concat([training_data_firsty,training_data_secondy])\n",
    "\telse:\n",
    "\t\ttraining_datay = dfy_backup.iloc[:testing_starty]\n",
    "\n"
   ]
  },
  {
   "cell_type": "code",
   "execution_count": 25,
   "metadata": {},
   "outputs": [],
   "source": [
    "# split the training data into normal and extreme sets\n",
    "flag_array_extremey = np.array([m for m in yresults['alarms'] if m<testing_starty or m>testing_endy])  \n",
    "extreme_trainingy = training_datay.loc[flag_array_extremey]\n",
    "flag_array_normaly = np.array([m for m in normal_event_idy if m<testing_starty or m>testing_endy])  \n",
    "normal_trainingy = training_datay.loc[flag_array_normaly]"
   ]
  },
  {
   "cell_type": "code",
   "execution_count": 26,
   "metadata": {},
   "outputs": [
    {
     "name": "stdout",
     "output_type": "stream",
     "text": [
      "current is cv fold 4 r^2 value is 0.9980264423017974\n",
      "avg_r2 is: 0.9910766102195607\n"
     ]
    }
   ],
   "source": [
    "# train the model with kernal gbr\n",
    "\n",
    "gbr_extreme.fit(extreme_trainingy.iloc[:,1:6].values,extreme_trainingy.iloc[:,0].values) \n",
    "gbr_normal.fit(normal_trainingy.iloc[:,1:6].values,normal_trainingy.iloc[:,0].values)\n",
    "\n",
    "\n",
    "# testing\n",
    "testing_datay_f = testing_datay.iloc[:,1:6].values\n",
    "testing_datay_y = testing_datay.iloc[:,0].values\n",
    "\n",
    "\n",
    "ypredictions = []\n",
    "for count in range(len(testing_datay_y)):\n",
    "\trecord_index = testing_starty+count\n",
    "\tif record_index in yresults['alarms']:\n",
    "\t\t# extreme event\n",
    "\t\ttmp_pred = gbr_extreme.predict([testing_datay_f[count]])\n",
    "\telse:\n",
    "\t# normal event\n",
    "\t    tmp_pred = gbr_normal.predict([testing_datay_f[count]])\n",
    "\typredictions.append(tmp_pred)\n",
    "\n",
    "tmp_r_2 = r2_score(testing_datay_y, ypredictions)\n",
    "r_2_list.append(tmp_r_2)\n",
    "print(\"current is cv fold\", i, \"r^2 value is\", tmp_r_2)\n",
    "\n",
    "print(\"avg_r2 is:\", sum(r_2_list) / len(r_2_list))"
   ]
  },
  {
   "cell_type": "code",
   "execution_count": 27,
   "metadata": {},
   "outputs": [
    {
     "name": "stdout",
     "output_type": "stream",
     "text": [
      "current is cv fold 4 r^2 value is 0.989792378880452\n",
      "avg_r2 is: 0.9909339178485487\n"
     ]
    }
   ],
   "source": [
    "# train the model with kernal knn\n",
    "\n",
    "knn_extreme.fit(extreme_trainingy.iloc[:,1:6].values,extreme_trainingy.iloc[:,0].values) \n",
    "knn_normal.fit(normal_trainingy.iloc[:,1:6].values,normal_trainingy.iloc[:,0].values)\n",
    "\n",
    "\n",
    "# testing\n",
    "testing_datay_f = testing_datay.iloc[:,1:6].values\n",
    "testing_datay_y = testing_datay.iloc[:,0].values\n",
    "\n",
    "\n",
    "ypredictions = []\n",
    "for count in range(len(testing_datay_y)):\n",
    "\trecord_index = testing_starty+count\n",
    "\tif record_index in yresults['alarms']:\n",
    "\t\t# extreme event\n",
    "\t\ttmp_pred = knn_extreme.predict([testing_datay_f[count]])\n",
    "\telse:\n",
    "\t# normal event\n",
    "\t    tmp_pred = knn_normal.predict([testing_datay_f[count]])\n",
    "\typredictions.append(tmp_pred)\n",
    "\n",
    "tmp_r_2 = r2_score(testing_datay_y, ypredictions)\n",
    "r_2_list.append(tmp_r_2)\n",
    "print(\"current is cv fold\", i, \"r^2 value is\", tmp_r_2)\n",
    "\n",
    "print(\"avg_r2 is:\", sum(r_2_list) / len(r_2_list))"
   ]
  },
  {
   "cell_type": "code",
   "execution_count": 28,
   "metadata": {},
   "outputs": [
    {
     "name": "stdout",
     "output_type": "stream",
     "text": [
      "current is cv fold 4 r^2 value is 0.9965463013504469\n",
      "avg_r2 is: 0.9914951561987385\n"
     ]
    }
   ],
   "source": [
    "# train the model with kernal decision tree\n",
    "\n",
    "decisiontree_extreme.fit(extreme_trainingy.iloc[:,1:6].values,extreme_trainingy.iloc[:,0].values) \n",
    "decisiontree_normal.fit(normal_trainingy.iloc[:,1:6].values,normal_trainingy.iloc[:,0].values)\n",
    "\n",
    "\n",
    "# testing\n",
    "testing_datay_f = testing_datay.iloc[:,1:6].values\n",
    "testing_datay_y = testing_datay.iloc[:,0].values\n",
    "\n",
    "\n",
    "ypredictions = []\n",
    "for count in range(len(testing_datay_y)):\n",
    "\trecord_index = testing_starty+count\n",
    "\tif record_index in yresults['alarms']:\n",
    "\t\t# extreme event\n",
    "\t\ttmp_pred = decisiontree_extreme.predict([testing_datay_f[count]])\n",
    "\telse:\n",
    "\t# normal event\n",
    "\t    tmp_pred = decisiontree_normal.predict([testing_datay_f[count]])\n",
    "\typredictions.append(tmp_pred)\n",
    "\n",
    "tmp_r_2 = r2_score(testing_datay_y, ypredictions)\n",
    "r_2_list.append(tmp_r_2)\n",
    "print(\"current is cv fold\", i, \"r^2 value is\", tmp_r_2)\n",
    "\n",
    "print(\"avg_r2 is:\", sum(r_2_list) / len(r_2_list))"
   ]
  },
  {
   "cell_type": "code",
   "execution_count": 29,
   "metadata": {},
   "outputs": [
    {
     "name": "stdout",
     "output_type": "stream",
     "text": [
      "current is cv fold 4 r^2 value is 0.9980264423017974\n",
      "avg_r2 is: 0.9920889094808348\n"
     ]
    }
   ],
   "source": [
    "# train the model with kernal mlp\n",
    "\n",
    "mlp_extreme.fit(extreme_trainingy.iloc[:,1:6].values,extreme_trainingy.iloc[:,0].values) \n",
    "mlp_normal.fit(normal_trainingy.iloc[:,1:6].values,normal_trainingy.iloc[:,0].values)\n",
    "\n",
    "\n",
    "# testing\n",
    "testing_datay_f = testing_datay.iloc[:,1:6].values\n",
    "testing_datay_y = testing_datay.iloc[:,0].values\n",
    "\n",
    "\n",
    "ypredictions = []\n",
    "for count in range(len(testing_datay_y)):\n",
    "\trecord_index = testing_starty+count\n",
    "\tif record_index in yresults['alarms']:\n",
    "\t\t# extreme event\n",
    "\t\ttmp_pred = gbr_extreme.predict([testing_datay_f[count]])\n",
    "\telse:\n",
    "\t# normal event\n",
    "\t    tmp_pred = gbr_normal.predict([testing_datay_f[count]])\n",
    "\typredictions.append(tmp_pred)\n",
    "\n",
    "tmp_r_2 = r2_score(testing_datay_y, ypredictions)\n",
    "r_2_list.append(tmp_r_2)\n",
    "print(\"current is cv fold\", i, \"r^2 value is\", tmp_r_2)\n",
    "\n",
    "print(\"avg_r2 is:\", sum(r_2_list) / len(r_2_list))"
   ]
  },
  {
   "cell_type": "code",
   "execution_count": null,
   "metadata": {},
   "outputs": [],
   "source": []
  },
  {
   "cell_type": "code",
   "execution_count": 30,
   "metadata": {
    "scrolled": true
   },
   "outputs": [
    {
     "name": "stderr",
     "output_type": "stream",
     "text": [
      "  0%|                                                                                 | 2/4140 [00:00<03:30, 19.64it/s]"
     ]
    },
    {
     "name": "stdout",
     "output_type": "stream",
     "text": [
      "Initial threshold : {'up': 9.02276223771996, 'down': -13.191928528640247}\n",
      "Number of peaks : {'up': 19, 'down': 20}\n",
      "Grimshaw maximum log-likelihood estimation ... [done]\n",
      "\t          Parameters               Upper               Lower\n",
      "\t------------------------------------------------------------\n",
      "\t                   γ                0.00                0.00\n",
      "\t                   σ                0.84                3.59\n",
      "\t          likelihood               15.59               45.54\n",
      "\t    Extreme quantile               11.48              -23.94\n",
      "\t------------------------------------------------------------\n"
     ]
    },
    {
     "name": "stderr",
     "output_type": "stream",
     "text": [
      "100%|█████████████████████████████████████████████████████████████████████████████| 4140/4140 [00:22<00:00, 185.72it/s]\n"
     ]
    },
    {
     "data": {
      "image/png": "[encoded data removed]",
      "text/plain": [
       "<Figure size 432x288 with 1 Axes>"
      ]
     },
     "metadata": {
      "needs_background": "light"
     },
     "output_type": "display_data"
    }
   ],
   "source": [
    "########### Rotational Z\n",
    "\n",
    "\n",
    "########detect extreme values with bidSPOT\n",
    "\n",
    "\n",
    "dfz = pd.read_csv('data/RotationalZ.csv',sep=',')\n",
    "\n",
    "\n",
    "Xz = dfz['z'].to_numpy(dtype='float')\n",
    "Xz_backup = Xz.copy()\n",
    "\n",
    "\n",
    "\n",
    "\n",
    "n_init = 2000\n",
    "\n",
    "\n",
    "init_dataz = Xz[:n_init] \t# initial batch\n",
    "dataz = Xz[n_init:]  \t\t# stream\n",
    "\n",
    "q = 1e-3 \t\t\t\t# risk parameter\n",
    "d =  1000 #depth parameter\n",
    "s = bidSPOT(q,d)     \t# biDSPOT object\n",
    "s.fit(init_dataz,dataz) \t# data import\n",
    "s.initialize() \t  \t\t# initialization step\n",
    "zresults = s.run()    \t# run\n",
    "s.plot(zresults) \t \t# plot\n",
    "plt.show()"
   ]
  },
  {
   "cell_type": "code",
   "execution_count": 31,
   "metadata": {},
   "outputs": [
    {
     "data": {
      "text/plain": [
       "828"
      ]
     },
     "execution_count": 31,
     "metadata": {},
     "output_type": "execute_result"
    }
   ],
   "source": [
    "# get total length of original  data\n",
    "\n",
    "originalz= dfz.iloc[n_init:,:].copy()\n",
    "# restart index\n",
    "originalz = originalz.reset_index(drop='True')\n",
    "total_lenz = originalz.shape[0]\n",
    "\n",
    "####set data length training set 80% and testing 20%\n",
    "testing_percentage=1/float(CV)\n",
    "test_data_lenz = int(total_lenz*testing_percentage)\n",
    "train_data_lenz = total_lenz - test_data_lenz\n",
    "total_lenz\n",
    "test_data_lenz"
   ]
  },
  {
   "cell_type": "code",
   "execution_count": 32,
   "metadata": {},
   "outputs": [],
   "source": [
    "r_2_list = []\n",
    "vis_prediction = []\n",
    "vis_gap = []\n",
    "normal_event_idz= np.setdiff1d(range(total_lenz),zresults['alarms'])"
   ]
  },
  {
   "cell_type": "code",
   "execution_count": 33,
   "metadata": {},
   "outputs": [
    {
     "name": "stdout",
     "output_type": "stream",
     "text": [
      "currently dealing with loop: 0\n",
      "currently dealing with loop: 1\n",
      "currently dealing with loop: 2\n",
      "currently dealing with loop: 3\n",
      "currently dealing with loop: 4\n"
     ]
    }
   ],
   "source": [
    "#split dataset into training and testing datasets\n",
    "\n",
    "list_training=[]\n",
    "list_testing=[]\n",
    "for i in range(CV):\n",
    "    dfz_backup = dfz.iloc[n_init:,:].copy()\n",
    "    dfz_backup =dfz_backup.reset_index(drop='True')\n",
    "    # decide where to make holes\n",
    "    count = 0\n",
    "    print(\"currently dealing with loop:\", i)\n",
    "    \n",
    "    testing_startz = test_data_lenx * i\n",
    "    testing_endz = testing_startz + test_data_lenz\n",
    "    testing_dataz = dfz_backup.iloc[testing_startz:testing_endz]\n",
    "    \n",
    "\n",
    "    \n",
    "    if i == 0:\n",
    "        training_dataz = dfz_backup.iloc[testing_endz:]\n",
    "    elif i<4:\n",
    "        training_data_firstz = dfz_backup.iloc[:testing_startz]\n",
    "        training_data_secondz = dfz_backup.iloc[testing_endz:]\n",
    "        training_dataz = pd.concat([training_data_firstz,training_data_secondz])\n",
    "    else:\n",
    "        training_dataz = dfz_backup.iloc[:testing_startz]"
   ]
  },
  {
   "cell_type": "code",
   "execution_count": 34,
   "metadata": {},
   "outputs": [],
   "source": [
    "flag_array_extremez = np.array([m for m in zresults['alarms'] if m<testing_startz or m>testing_endz])  \n",
    "extreme_trainingz = training_dataz.loc[flag_array_extremez]\n",
    "flag_array_normalz = np.array([m for m in normal_event_idz if m<testing_startz or m>testing_endz])  \n",
    "normal_trainingz = training_dataz.loc[flag_array_normalz]"
   ]
  },
  {
   "cell_type": "code",
   "execution_count": 35,
   "metadata": {},
   "outputs": [
    {
     "name": "stdout",
     "output_type": "stream",
     "text": [
      "current is cv fold 4 r^2 value is -2.0369592918007826\n",
      "avg_r2 is: -2.0369592918007826\n"
     ]
    }
   ],
   "source": [
    "# train the model with kernal gbr\n",
    "\n",
    "gbr_extreme.fit(extreme_trainingz.iloc[:,1:6].values,extreme_trainingz.iloc[:,0].values) \n",
    "gbr_normal.fit(normal_trainingz.iloc[:,1:6].values,normal_trainingz.iloc[:,0].values)\n",
    "\n",
    "\n",
    "# testing\n",
    "testing_dataz_f = testing_dataz.iloc[:,1:6].values\n",
    "testing_dataz_z = testing_dataz.iloc[:,0].values\n",
    "\n",
    "\n",
    "predictions = []\n",
    "for count in range(len(testing_dataz_z)):\n",
    "\trecord_index = testing_startz+count\n",
    "\tif record_index in zresults['alarms']:\n",
    "\t\t# extreme event\n",
    "\t\ttmp_pred = gbr_extreme.predict([testing_dataz_f[count]])\n",
    "\telse:\n",
    "\t# normal event\n",
    "\t    tmp_pred = gbr_normal.predict([testing_dataz_f[count]])\n",
    "\tpredictions.append(tmp_pred)\n",
    "\n",
    "tmp_r_2 = r2_score(testing_dataz_z, predictions)\n",
    "r_2_list.append(tmp_r_2)\n",
    "print(\"current is cv fold\", i, \"r^2 value is\", tmp_r_2)\n",
    "\n",
    "print(\"avg_r2 is:\", sum(r_2_list) / len(r_2_list))"
   ]
  },
  {
   "cell_type": "code",
   "execution_count": 36,
   "metadata": {},
   "outputs": [
    {
     "name": "stdout",
     "output_type": "stream",
     "text": [
      "current is cv fold 4 r^2 value is -0.6641440398299328\n",
      "avg_r2 is: -1.3505516658153578\n"
     ]
    }
   ],
   "source": [
    "# train the model with kernal knn\n",
    "\n",
    "knn_extreme.fit(extreme_trainingz.iloc[:,1:6].values,extreme_trainingz.iloc[:,0].values) \n",
    "knn_normal.fit(normal_trainingz.iloc[:,1:6].values,normal_trainingz.iloc[:,0].values)\n",
    "\n",
    "\n",
    "# testing\n",
    "testing_dataz_f = testing_dataz.iloc[:,1:6].values\n",
    "testing_dataz_z = testing_dataz.iloc[:,0].values\n",
    "\n",
    "\n",
    "predictions = []\n",
    "for count in range(len(testing_dataz_z)):\n",
    "\trecord_index = testing_startz+count\n",
    "\tif record_index in zresults['alarms']:\n",
    "\t\t# extreme event\n",
    "\t\ttmp_pred = knn_extreme.predict([testing_dataz_f[count]])\n",
    "\telse:\n",
    "\t# normal event\n",
    "\t    tmp_pred = knn_normal.predict([testing_dataz_f[count]])\n",
    "\tpredictions.append(tmp_pred)\n",
    "\n",
    "tmp_r_2 = r2_score(testing_dataz_z, predictions)\n",
    "r_2_list.append(tmp_r_2)\n",
    "print(\"current is cv fold\", i, \"r^2 value is\", tmp_r_2)\n",
    "\n",
    "print(\"avg_r2 is:\", sum(r_2_list) / len(r_2_list))"
   ]
  },
  {
   "cell_type": "code",
   "execution_count": 37,
   "metadata": {},
   "outputs": [
    {
     "name": "stdout",
     "output_type": "stream",
     "text": [
      "current is cv fold 4 r^2 value is -0.03197061222613118\n",
      "avg_r2 is: -0.9110246479522823\n"
     ]
    }
   ],
   "source": [
    "# train the model with kernal decision tree\n",
    "\n",
    "decisiontree_extreme.fit(extreme_trainingz.iloc[:,1:6].values,extreme_trainingz.iloc[:,0].values) \n",
    "decisiontree_normal.fit(normal_trainingz.iloc[:,1:6].values,normal_trainingz.iloc[:,0].values)\n",
    "\n",
    "\n",
    "# testing\n",
    "testing_dataz_f = testing_dataz.iloc[:,1:6].values\n",
    "testing_dataz_z = testing_dataz.iloc[:,0].values\n",
    "\n",
    "\n",
    "predictions = []\n",
    "for count in range(len(testing_dataz_z)):\n",
    "\trecord_index = testing_startz+count\n",
    "\tif record_index in zresults['alarms']:\n",
    "\t\t# extreme event\n",
    "\t\ttmp_pred = decisiontree_extreme.predict([testing_dataz_f[count]])\n",
    "\telse:\n",
    "\t# normal event\n",
    "\t    tmp_pred = decisiontree_normal.predict([testing_dataz_f[count]])\n",
    "\tpredictions.append(tmp_pred)\n",
    "\n",
    "tmp_r_2 = r2_score(testing_dataz_z, predictions)\n",
    "r_2_list.append(tmp_r_2)\n",
    "print(\"current is cv fold\", i, \"r^2 value is\", tmp_r_2)\n",
    "\n",
    "print(\"avg_r2 is:\", sum(r_2_list) / len(r_2_list))"
   ]
  },
  {
   "cell_type": "code",
   "execution_count": 38,
   "metadata": {},
   "outputs": [
    {
     "name": "stderr",
     "output_type": "stream",
     "text": [
      "c:\\users\\wangp\\appdata\\local\\programs\\python\\python38\\lib\\site-packages\\sklearn\\neural_network\\_multilayer_perceptron.py:582: ConvergenceWarning: Stochastic Optimizer: Maximum iterations (500) reached and the optimization hasn't converged yet.\n",
      "  warnings.warn(\n"
     ]
    },
    {
     "name": "stdout",
     "output_type": "stream",
     "text": [
      "current is cv fold 4 r^2 value is -1.6252392979428176\n",
      "avg_r2 is: -1.0895783104499162\n"
     ]
    }
   ],
   "source": [
    "# train the model with kernal  mlp\n",
    "\n",
    "mlp_extreme.fit(extreme_trainingz.iloc[:,1:6].values,extreme_trainingz.iloc[:,0].values) \n",
    "mlp_normal.fit(normal_trainingz.iloc[:,1:6].values,normal_trainingz.iloc[:,0].values)\n",
    "\n",
    "\n",
    "# testing\n",
    "testing_dataz_f = testing_dataz.iloc[:,1:6].values\n",
    "testing_dataz_z = testing_dataz.iloc[:,0].values\n",
    "\n",
    "\n",
    "predictions = []\n",
    "for count in range(len(testing_dataz_z)):\n",
    "\trecord_index = testing_startz+count\n",
    "\tif record_index in zresults['alarms']:\n",
    "\t\t# extreme event\n",
    "\t\ttmp_pred = mlp_extreme.predict([testing_dataz_f[count]])\n",
    "\telse:\n",
    "\t# normal event\n",
    "\t    tmp_pred = mlp_normal.predict([testing_dataz_f[count]])\n",
    "\tpredictions.append(tmp_pred)\n",
    "\n",
    "tmp_r_2 = r2_score(testing_dataz_z, predictions)\n",
    "r_2_list.append(tmp_r_2)\n",
    "print(\"current is cv fold\", i, \"r^2 value is\", tmp_r_2)\n",
    "\n",
    "print(\"avg_r2 is:\", sum(r_2_list) / len(r_2_list))"
   ]
  },
  {
   "cell_type": "code",
   "execution_count": null,
   "metadata": {},
   "outputs": [],
   "source": []
  }
 ],
 "metadata": {
  "kernelspec": {
   "display_name": "Python 3",
   "language": "python",
   "name": "python3"
  },
  "language_info": {
   "codemirror_mode": {
    "name": "ipython",
    "version": 3
   },
   "file_extension": ".py",
   "mimetype": "text/x-python",
   "name": "python",
   "nbconvert_exporter": "python",
   "pygments_lexer": "ipython3",
   "version": "3.8.5"
  }
 },
 "nbformat": 4,
 "nbformat_minor": 4
}
