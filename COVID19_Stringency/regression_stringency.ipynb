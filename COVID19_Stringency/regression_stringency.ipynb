{
 "cells": [
  {
   "cell_type": "code",
   "execution_count": null,
   "metadata": {},
   "outputs": [],
   "source": [
    "%matplotlib inline\n",
    "import matplotlib.pyplot as plt\n",
    "import seaborn as sns; sns.set()\n",
    "import numpy as np\n",
    "\n",
    "from sklearn.base import BaseEstimator, TransformerMixin\n",
    "from sklearn.linear_model import LinearRegression\n",
    "from sklearn.pipeline import make_pipeline\n",
    "from sklearn.model_selection import cross_val_score\n",
    "from sklearn.linear_model import Ridge, Lasso\n",
    "from sklearn.model_selection import RandomizedSearchCV\n",
    "from sklearn.utils.fixes import loguniform\n",
    "from sklearn import preprocessing\n",
    "from sklearn.model_selection import train_test_split\n",
    "from sklearn.metrics import mean_squared_error\n",
    "from sklearn.metrics import r2_score"
   ]
  },
  {
   "cell_type": "code",
   "execution_count": null,
   "metadata": {},
   "outputs": [],
   "source": [
    "import warnings\n",
    "warnings.filterwarnings('ignore')"
   ]
  },
  {
   "cell_type": "code",
   "execution_count": null,
   "metadata": {},
   "outputs": [],
   "source": [
    "import pandas as pd\n",
    "df = pd.read_csv('states_covid_stringency.csv', parse_dates=True, dtype=\"category\")\n",
    "\n",
    "print(df.shape)"
   ]
  },
  {
   "cell_type": "code",
   "execution_count": null,
   "metadata": {},
   "outputs": [],
   "source": [
    "df.tail()"
   ]
  },
  {
   "cell_type": "code",
   "execution_count": null,
   "metadata": {},
   "outputs": [],
   "source": [
    "X = df.drop(['CountryName', 'CountryCode', 'RegionName',\n",
    "                              'RegionCode', 'Jurisdiction', 'Date','date', 'ConfirmedCases', 'ConfirmedDeaths'], axis=1)\n",
    "y = df.iloc[:, df.columns == 'ConfirmedDeaths']\n",
    "\n",
    "print(X.dtypes)\n",
    "print(y.dtypes)"
   ]
  },
  {
   "cell_type": "code",
   "execution_count": null,
   "metadata": {},
   "outputs": [],
   "source": [
    "X[['StringencyIndex', 'StringencyLegacyIndex', 'GovernmentResponseIndex', \n",
    "   'ContainmentHealthIndex', 'ContainmentHealthIndexForDisplay', 'deathIncrease']] = X[['StringencyIndex', 'StringencyLegacyIndex', 'GovernmentResponseIndex', \n",
    "   'ContainmentHealthIndex', 'ContainmentHealthIndexForDisplay', 'deathIncrease']].apply(pd.to_numeric)"
   ]
  },
  {
   "cell_type": "code",
   "execution_count": null,
   "metadata": {},
   "outputs": [],
   "source": [
    "y = y.astype(np.float64)\n",
    "print(X.dtypes)\n",
    "print(y.dtypes)"
   ]
  },
  {
   "cell_type": "code",
   "execution_count": null,
   "metadata": {},
   "outputs": [],
   "source": [
    "## Use SelectKBest to see the best features used in the study.\n",
    "\n",
    "from sklearn.feature_selection import SelectKBest, f_regression\n",
    "\n",
    "fs = SelectKBest(score_func=f_regression, k=10)\n",
    "\n",
    "# apply feature selection\n",
    "X_selected = fs.fit(X, y)\n",
    "\n",
    "#print(X_selected.shape)\n",
    "\n",
    "df_scores = pd.DataFrame(X_selected.scores_)\n",
    "df_columns = pd.DataFrame(X.columns)\n",
    "\n",
    "print(df_scores)\n",
    "print(df_columns)"
   ]
  },
  {
   "cell_type": "code",
   "execution_count": null,
   "metadata": {},
   "outputs": [],
   "source": [
    "# concatenate dataframes\n",
    "feature_scores = pd.concat([df_columns, df_scores],axis=1)\n",
    "feature_scores.columns = ['Feature_Name','Score']  # name output columns\n",
    "print(feature_scores.nlargest(10,'Score'))  # print 20 best features\n",
    "# export selected features to .csv\n",
    "df_univ_feat = feature_scores.nlargest(10,'Score')\n",
    "#df_univ_feat.to_csv('feature_selection_UNIVARIATE.csv', index=False)"
   ]
  },
  {
   "cell_type": "code",
   "execution_count": null,
   "metadata": {},
   "outputs": [],
   "source": [
    "X = df[['deathIncrease', 'GovernmentResponseIndex', 'H6_Facial Coverings', 'H7_Vaccination policy']]\n",
    "y = df.iloc[:, df.columns == 'ConfirmedDeaths']\n",
    "\n",
    "print(X.head())\n",
    "print(y.head())"
   ]
  },
  {
   "cell_type": "code",
   "execution_count": null,
   "metadata": {},
   "outputs": [],
   "source": [
    "param_dist = {'alpha': ['0.1', '0.25', '0.40', '0.5', '0.75', '1.0', '10', '50', '100', '500', '1000'],\n",
    "              'fit_intercept': ['True', 'False'],\n",
    "              'normalize': ['True', 'False'],\n",
    "              'tol': loguniform(1e-4, 1e0),}\n",
    "\n",
    "ridge_model = Ridge()\n",
    "\n",
    "rrandom = RandomizedSearchCV(estimator=ridge_model, param_distributions=param_dist, cv=10, n_iter=100, random_state=42)\n",
    "rrandom.fit(X, y)\n",
    "\n",
    "print(rrandom.best_score_)\n",
    "print(rrandom.best_estimator_.alpha)\n",
    "print(rrandom.best_params_)"
   ]
  },
  {
   "cell_type": "code",
   "execution_count": null,
   "metadata": {},
   "outputs": [],
   "source": [
    "X_train, X_test, y_train, y_test = train_test_split(X,y,test_size=0.3)"
   ]
  },
  {
   "cell_type": "code",
   "execution_count": null,
   "metadata": {
    "scrolled": true
   },
   "outputs": [],
   "source": [
    "rfinal = Ridge(alpha= 0.40, fit_intercept=True, normalize=True, tol=0.006870614282613298)\n",
    "rfinal.fit(X_train, y_train)\n"
   ]
  },
  {
   "cell_type": "code",
   "execution_count": null,
   "metadata": {},
   "outputs": [],
   "source": [
    "pred = rfinal.predict(X_train)"
   ]
  },
  {
   "cell_type": "code",
   "execution_count": null,
   "metadata": {},
   "outputs": [],
   "source": [
    "print(np.sqrt(mean_squared_error(y_train, pred, squared=False)))\n",
    "print(r2_score(y_train, pred))"
   ]
  },
  {
   "cell_type": "code",
   "execution_count": null,
   "metadata": {},
   "outputs": [],
   "source": [
    "from sklearn.ensemble import RandomForestRegressor\n",
    "\n",
    "param_dist = {\"n_estimators\": [10, 25, 50, 100, 500, 1000],\n",
    "             \"max_depth\": [1,5,10,25,50,100]}\n",
    "\n",
    "rfr = RandomForestRegressor()\n",
    "\n",
    "rrandom = RandomizedSearchCV(estimator=rfr, param_distributions=param_dist, cv=10, n_iter=100, random_state=42)\n",
    "rrandom.fit(X, y)\n",
    "\n",
    "print(rrandom.best_score_)\n",
    "print(rrandom.best_estimator_)\n",
    "print(rrandom.best_params_)"
   ]
  },
  {
   "cell_type": "code",
   "execution_count": null,
   "metadata": {},
   "outputs": [],
   "source": [
    "rfr = RandomForestRegressor(max_depth=5, n_estimators=500)\n",
    "cv = RepeatedKFold(n_splits = 5, n_repeats = 3, random_state=1)\n",
    "\n",
    "scores = cross_val_score(rfr, X, y, cv=cv)\n",
    "\n",
    "# Cross Validation Scores (Averaged)\n",
    "\n",
    "print('Cross Val Score: %.3f (%.3f)' % (mean(scores), std(scores)))"
   ]
  },
  {
   "cell_type": "code",
   "execution_count": null,
   "metadata": {},
   "outputs": [],
   "source": [
    "from sklearn.ensemble import GradientBoostingRegressor\n",
    "\n",
    "param_dist = {\"n_estimators\": [10, 25, 50, 100, 500, 1000]}\n",
    "\n",
    "gbr = GradientBoostingRegressor()\n",
    "\n",
    "rrandom = RandomizedSearchCV(estimator=gbr, param_distributions=param_dist, cv=10, n_iter=100, random_state=42)\n",
    "rrandom.fit(X, y)\n",
    "\n",
    "print(rrandom.best_score_)\n",
    "print(rrandom.best_estimator_.alpha)\n",
    "print(rrandom.best_params_)"
   ]
  },
  {
   "cell_type": "code",
   "execution_count": null,
   "metadata": {},
   "outputs": [],
   "source": [
    "gbr = GradientBoostingRegressor(alpha=0.9, n_estimators=100)\n",
    "cv = RepeatedKFold(n_splits = 5, n_repeats = 3, random_state=1)\n",
    "\n",
    "scores = cross_val_score(gbr, X, y, cv=cv)\n",
    "\n",
    "# Cross Validation Scores (Averaged)\n",
    "\n",
    "print('Cross Val Score: %.3f (%.3f)' % (mean(scores), std(scores)))"
   ]
  },
  {
   "cell_type": "code",
   "execution_count": null,
   "metadata": {},
   "outputs": [],
   "source": [
    "!pip install xgboost"
   ]
  },
  {
   "cell_type": "code",
   "execution_count": null,
   "metadata": {},
   "outputs": [],
   "source": [
    "from xgboost import XGBRegressor"
   ]
  },
  {
   "cell_type": "code",
   "execution_count": null,
   "metadata": {},
   "outputs": [],
   "source": [
    "xgbr = XGBRegressor(objective='reg:squarederror')\n",
    "\n",
    "cv = RepeatedKFold(n_splits = 5, n_repeats = 3, random_state=1)\n",
    "\n",
    "scores = cross_val_score(xgbr, X, y, cv=cv)\n",
    "\n",
    "# Cross Validation Scores (Averaged)\n",
    "\n",
    "print('Cross Val Score: %.3f (%.3f)' % (mean(scores), std(scores)))"
   ]
  }
 ],
 "metadata": {
  "kernelspec": {
   "display_name": "Python 3",
   "language": "python",
   "name": "python3"
  },
  "language_info": {
   "codemirror_mode": {
    "name": "ipython",
    "version": 3
   },
   "file_extension": ".py",
   "mimetype": "text/x-python",
   "name": "python",
   "nbconvert_exporter": "python",
   "pygments_lexer": "ipython3",
   "version": "3.8.5"
  }
 },
 "nbformat": 4,
 "nbformat_minor": 4
}
